{
 "cells": [
  {
   "cell_type": "code",
   "execution_count": 5,
   "metadata": {
    "scrolled": true
   },
   "outputs": [],
   "source": [
    "import feedparser\n",
    "from win10toast import ToastNotifier\n",
    "import random\n",
    "import os\n",
    "import time"
   ]
  },
  {
   "cell_type": "code",
   "execution_count": 6,
   "metadata": {},
   "outputs": [],
   "source": [
    "def technews():\n",
    "    f = feedparser.parse(\"http://feeds.bbci.co.uk/news/technology/rss.xml\")\n",
    "    g = feedparser.parse(\"https://feeds.feedburner.com/gadgets360-latest\")\n",
    "    h = feedparser.parse(\"https://feeds.a.dj.com/rss/RSSWSJD.xml\")\n",
    "    ICON_PATH = 'C:\\\\Users\\\\HARSHA\\\\Downloads\\\\icon.ico'\n",
    "    g.update(f)\n",
    "    g.update(h)\n",
    "    random.shuffle(g['items'])\n",
    "    for newsitem in g['items']:\n",
    "        print(newsitem)\n",
    "        n = ToastNotifier()\n",
    "        n.show_toast(title = newsitem['title'], msg = newsitem['summary'], duration = 25, icon_path = ICON_PATH)\n",
    "        #time.sleep(100)\n"
   ]
  },
  {
   "cell_type": "code",
   "execution_count": 7,
   "metadata": {},
   "outputs": [],
   "source": [
    "def topstories():\n",
    "    f = feedparser.parse(\"http://feeds.bbci.co.uk/news/rss.xml\")\n",
    "    g = feedparser.parse(\"https://feeds.feedburner.com/ndtvnews-top-stories\")\n",
    "    h = feedparser.parse(\"https://feeds.a.dj.com/rss/RSSWorldNews.xml\") \n",
    "    g.update(f)\n",
    "    g.update(h)\n",
    "    random.shuffle(g['items'])\n",
    "    ICON_PATH = 'C:\\\\Users\\\\HARSHA\\\\Downloads\\\\icon.ico'\n",
    "    for newsitem in g['items']:\n",
    "        n = ToastNotifier()\n",
    "        n.show_toast(title = newsitem['title'], msg = newsitem['summary'], duration = 25, icon_path = ICON_PATH)\n",
    "        #time.sleep(100)"
   ]
  },
  {
   "cell_type": "code",
   "execution_count": 9,
   "metadata": {},
   "outputs": [],
   "source": [
    "def sciencenews():\n",
    "    f = feedparser.parse(\"https://rss.nytimes.com/services/xml/rss/nyt/Science.xml\")\n",
    "    g = feedparser.parse(\"http://feeds.bbci.co.uk/news/science_and_environment/rss.xml\")\n",
    "    g.update(f)\n",
    "    random.shuffle(g['items'])\n",
    "    ICON_PATH = 'C:\\\\Users\\\\HARSHA\\\\Downloads\\\\icon.ico'\n",
    "    for newsitem in g['items']:\n",
    "        n = ToastNotifier()\n",
    "        n.show_toast(title = newsitem['title'], msg = newsitem['summary'], duration = 25, icon_path = ICON_PATH)\n",
    "        #time.sleep(100)"
   ]
  },
  {
   "cell_type": "code",
   "execution_count": 11,
   "metadata": {},
   "outputs": [
    {
     "name": "stdout",
     "output_type": "stream",
     "text": [
      "List of feeds: \n",
      "1. TOP STORIES\n",
      "2. TECH NEWS\n",
      "3. SCIENCE NEWS\n",
      "Enter your choice: 2\n",
      "{'title': 'SpaceX Capsule and NASA Crew Make Historic Splashdown', 'title_detail': {'type': 'text/plain', 'language': None, 'base': 'https://feeds.a.dj.com/rss/RSSWSJD.xml', 'value': 'SpaceX Capsule and NASA Crew Make Historic Splashdown'}, 'links': [{'rel': 'alternate', 'type': 'text/html', 'href': 'https://www.wsj.com/articles/spacex-capsule-and-nasa-crew-make-historic-splashdown-11596397269?mod=rss_Technology'}], 'link': 'https://www.wsj.com/articles/spacex-capsule-and-nasa-crew-make-historic-splashdown-11596397269?mod=rss_Technology', 'summary': 'Two NASA astronauts returned to Earth on Sunday in a retro-style splashdown, their capsule parachuting into the Gulf of Mexico to close out an unprecedented test flight by Elon Musk’s SpaceX company.', 'summary_detail': {'type': 'text/html', 'language': None, 'base': 'https://feeds.a.dj.com/rss/RSSWSJD.xml', 'value': 'Two NASA astronauts returned to Earth on Sunday in a retro-style splashdown, their capsule parachuting into the Gulf of Mexico to close out an unprecedented test flight by Elon Musk’s SpaceX company.'}, 'content': [{'type': 'text/html', 'language': None, 'base': 'https://feeds.a.dj.com/rss/RSSWSJD.xml', 'value': ''}], 'published': 'Sun, 02 Aug 2020 18:31:00 -0400', 'published_parsed': time.struct_time(tm_year=2020, tm_mon=8, tm_mday=2, tm_hour=22, tm_min=31, tm_sec=0, tm_wday=6, tm_yday=215, tm_isdst=0), 'id': 'SB10509763273812983434704586545134263310972', 'guidislink': False, 'tags': [{'term': 'PAID', 'scheme': 'AccessClassName', 'label': None}], 'wsj_articletype': 'Business'}\n",
      "{'title': 'Cloud Spending Hits Record Amid Economic Fallout From Covid-19', 'title_detail': {'type': 'text/plain', 'language': None, 'base': 'https://feeds.a.dj.com/rss/RSSWSJD.xml', 'value': 'Cloud Spending Hits Record Amid Economic Fallout From Covid-19'}, 'links': [{'rel': 'alternate', 'type': 'text/html', 'href': 'https://www.wsj.com/articles/cloud-spending-hits-record-amid-economic-fallout-from-covid-19-11596494981?mod=rss_Technology'}], 'link': 'https://www.wsj.com/articles/cloud-spending-hits-record-amid-economic-fallout-from-covid-19-11596494981?mod=rss_Technology', 'summary': 'Spending on cloud services is surging, as companies shift more business applications online to cope with extended Covid-19 lockdowns, social distancing and other restrictions.', 'summary_detail': {'type': 'text/html', 'language': None, 'base': 'https://feeds.a.dj.com/rss/RSSWSJD.xml', 'value': 'Spending on cloud services is surging, as companies shift more business applications online to cope with extended Covid-19 lockdowns, social distancing and other restrictions.'}, 'content': [{'type': 'text/html', 'language': None, 'base': 'https://feeds.a.dj.com/rss/RSSWSJD.xml', 'value': ''}], 'published': 'Mon, 03 Aug 2020 18:49:00 -0400', 'published_parsed': time.struct_time(tm_year=2020, tm_mon=8, tm_mday=3, tm_hour=22, tm_min=49, tm_sec=0, tm_wday=0, tm_yday=216, tm_isdst=0), 'id': 'SB12344200674247334710904586547320075924168', 'guidislink': False, 'tags': [{'term': 'PAID', 'scheme': 'AccessClassName', 'label': None}], 'wsj_articletype': 'CIO Journal'}\n",
      "{'title': 'TikTok Users Drawn to Rival Platforms as Trump Threatens U.S. Ban', 'title_detail': {'type': 'text/plain', 'language': None, 'base': 'https://feeds.a.dj.com/rss/RSSWSJD.xml', 'value': 'TikTok Users Drawn to Rival Platforms as Trump Threatens U.S. Ban'}, 'links': [{'rel': 'alternate', 'type': 'text/html', 'href': 'https://www.wsj.com/articles/tiktok-users-drawn-to-rival-platforms-as-trump-threatens-u-s-ban-11596555375?mod=rss_Technology'}], 'link': 'https://www.wsj.com/articles/tiktok-users-drawn-to-rival-platforms-as-trump-threatens-u-s-ban-11596555375?mod=rss_Technology', 'summary': 'Unfamiliar names such as byte and Triller have charged up the Apple App Store rankings because they offer short videos like those on TikTok, the social-media breakout facing an uncertain future in the U.S.', 'summary_detail': {'type': 'text/html', 'language': None, 'base': 'https://feeds.a.dj.com/rss/RSSWSJD.xml', 'value': 'Unfamiliar names such as byte and Triller have charged up the Apple App Store rankings because they offer short videos like those on TikTok, the social-media breakout facing an uncertain future in the U.S.'}, 'content': [{'type': 'text/html', 'language': None, 'base': 'https://feeds.a.dj.com/rss/RSSWSJD.xml', 'value': ''}], 'published': 'Tue, 04 Aug 2020 11:36:00 -0400', 'published_parsed': time.struct_time(tm_year=2020, tm_mon=8, tm_mday=4, tm_hour=15, tm_min=36, tm_sec=0, tm_wday=1, tm_yday=217, tm_isdst=0), 'id': 'SB12344200674247334710904586548763271146014', 'guidislink': False, 'tags': [{'term': 'PAID', 'scheme': 'AccessClassName', 'label': None}], 'wsj_articletype': 'Technology'}\n",
      "{'title': 'Google Pixel 4a: Lots of Phone for $349', 'title_detail': {'type': 'text/plain', 'language': None, 'base': 'https://feeds.a.dj.com/rss/RSSWSJD.xml', 'value': 'Google Pixel 4a: Lots of Phone for $349'}, 'links': [{'rel': 'alternate', 'type': 'text/html', 'href': 'https://www.wsj.com/articles/google-pixel-4a-review-why-spend-1-000-when-you-can-spend-349-11596466800?mod=rss_Technology'}], 'link': 'https://www.wsj.com/articles/google-pixel-4a-review-why-spend-1-000-when-you-can-spend-349-11596466800?mod=rss_Technology', 'summary': 'You don’t need to spend a thousand dollars on a premium smartphone. You can get the same features by paying half as much, or less.', 'summary_detail': {'type': 'text/html', 'language': None, 'base': 'https://feeds.a.dj.com/rss/RSSWSJD.xml', 'value': 'You don’t need to spend a thousand dollars on a premium smartphone. You can get the same features by paying half as much, or less.'}, 'content': [{'type': 'text/html', 'language': None, 'base': 'https://feeds.a.dj.com/rss/RSSWSJD.xml', 'value': ''}], 'published': 'Mon, 03 Aug 2020 11:00:00 -0400', 'published_parsed': time.struct_time(tm_year=2020, tm_mon=8, tm_mday=3, tm_hour=15, tm_min=0, tm_sec=0, tm_wday=0, tm_yday=216, tm_isdst=0), 'id': 'SB10149228015277704190104586543743845369086', 'guidislink': False, 'tags': [{'term': 'PAID', 'scheme': 'AccessClassName', 'label': None}], 'wsj_articletype': 'Personal Technology: Nicole Nguyen'}\n",
      "{'title': 'Hospitality Industry Turns to Tech to Lure Guests Back', 'title_detail': {'type': 'text/plain', 'language': None, 'base': 'https://feeds.a.dj.com/rss/RSSWSJD.xml', 'value': 'Hospitality Industry Turns to Tech to Lure Guests Back'}, 'links': [{'rel': 'alternate', 'type': 'text/html', 'href': 'https://www.wsj.com/articles/hospitality-industry-turns-to-tech-to-lure-guests-back-11596636001?mod=rss_Technology'}], 'link': 'https://www.wsj.com/articles/hospitality-industry-turns-to-tech-to-lure-guests-back-11596636001?mod=rss_Technology', 'summary': 'A key on your phone, voice-activated digital assistants that can dim the lights and order fresh towels, electrostatic sprayers—hotels are piling on tech workarounds to keep guests safe from Covid-19.', 'summary_detail': {'type': 'text/html', 'language': None, 'base': 'https://feeds.a.dj.com/rss/RSSWSJD.xml', 'value': 'A key on your phone, voice-activated digital assistants that can dim the lights and order fresh towels, electrostatic sprayers—hotels are piling on tech workarounds to keep guests safe from Covid-19.'}, 'content': [{'type': 'text/html', 'language': None, 'base': 'https://feeds.a.dj.com/rss/RSSWSJD.xml', 'value': ''}], 'published': 'Wed, 05 Aug 2020 10:00:00 -0400', 'published_parsed': time.struct_time(tm_year=2020, tm_mon=8, tm_mday=5, tm_hour=14, tm_min=0, tm_sec=0, tm_wday=2, tm_yday=218, tm_isdst=0), 'id': 'SB12344200674247334710904586549371167386058', 'guidislink': False, 'tags': [{'term': 'PAID', 'scheme': 'AccessClassName', 'label': None}], 'wsj_articletype': 'CIO Journal'}\n",
      "{'title': 'Hackers Get Green Light to Test U.S. Voting Systems', 'title_detail': {'type': 'text/plain', 'language': None, 'base': 'https://feeds.a.dj.com/rss/RSSWSJD.xml', 'value': 'Hackers Get Green Light to Test U.S. Voting Systems'}, 'links': [{'rel': 'alternate', 'type': 'text/html', 'href': 'https://www.wsj.com/articles/hackers-get-green-light-to-test-u-s-voting-systems-11596628099?mod=rss_Technology'}], 'link': 'https://www.wsj.com/articles/hackers-get-green-light-to-test-u-s-voting-systems-11596628099?mod=rss_Technology', 'summary': 'Election Systems &amp; Software, the top U.S. seller of voting-machine technology, is calling a truce in its feud with computer-security researchers over the ways they probe for vulnerabilities of the company’s systems.', 'summary_detail': {'type': 'text/html', 'language': None, 'base': 'https://feeds.a.dj.com/rss/RSSWSJD.xml', 'value': 'Election Systems &amp; Software, the top U.S. seller of voting-machine technology, is calling a truce in its feud with computer-security researchers over the ways they probe for vulnerabilities of the company’s systems.'}, 'content': [{'type': 'text/html', 'language': None, 'base': 'https://feeds.a.dj.com/rss/RSSWSJD.xml', 'value': ''}], 'published': 'Wed, 05 Aug 2020 07:48:00 -0400', 'published_parsed': time.struct_time(tm_year=2020, tm_mon=8, tm_mday=5, tm_hour=11, tm_min=48, tm_sec=0, tm_wday=2, tm_yday=218, tm_isdst=0), 'id': 'SB12344200674247334710904586549822568122318', 'guidislink': False, 'tags': [{'term': 'PAID', 'scheme': 'AccessClassName', 'label': None}], 'wsj_articletype': 'Technology'}\n",
      "{'title': 'White House Nixes FCC Nominee Who Questioned Bid to Regulate Social Media', 'title_detail': {'type': 'text/plain', 'language': None, 'base': 'https://feeds.a.dj.com/rss/RSSWSJD.xml', 'value': 'White House Nixes FCC Nominee Who Questioned Bid to Regulate Social Media'}, 'links': [{'rel': 'alternate', 'type': 'text/html', 'href': 'https://www.wsj.com/articles/white-house-nixes-fcc-nominee-who-questioned-bid-to-regulate-social-media-11596556660?mod=rss_Technology'}], 'link': 'https://www.wsj.com/articles/white-house-nixes-fcc-nominee-who-questioned-bid-to-regulate-social-media-11596556660?mod=rss_Technology', 'summary': 'The White House withdrew Mike O’Rielly’s nomination for a new term on the Federal Communications Commission because of reservations he expressed about President Trump’s initiative to regulate how social media platforms treat user-generated content.', 'summary_detail': {'type': 'text/html', 'language': None, 'base': 'https://feeds.a.dj.com/rss/RSSWSJD.xml', 'value': 'The White House withdrew Mike O’Rielly’s nomination for a new term on the Federal Communications Commission because of reservations he expressed about President Trump’s initiative to regulate how social media platforms treat user-generated content.'}, 'content': [{'type': 'text/html', 'language': None, 'base': 'https://feeds.a.dj.com/rss/RSSWSJD.xml', 'value': ''}], 'published': 'Tue, 04 Aug 2020 13:09:00 -0400', 'published_parsed': time.struct_time(tm_year=2020, tm_mon=8, tm_mday=4, tm_hour=17, tm_min=9, tm_sec=0, tm_wday=1, tm_yday=217, tm_isdst=0), 'id': 'SB12344200674247334710904586548822990867708', 'guidislink': False, 'tags': [{'term': 'PAID', 'scheme': 'AccessClassName', 'label': None}], 'wsj_articletype': 'Politics and Policy'}\n",
      "{'title': 'Microsoft CEO Wades Into U.S.-China Tensions in TikTok Pursuit', 'title_detail': {'type': 'text/plain', 'language': None, 'base': 'https://feeds.a.dj.com/rss/RSSWSJD.xml', 'value': 'Microsoft CEO Wades Into U.S.-China Tensions in TikTok Pursuit'}, 'links': [{'rel': 'alternate', 'type': 'text/html', 'href': 'https://www.wsj.com/articles/microsoft-ceo-nadella-wades-into-u-s-china-tensions-in-tiktok-pursuit-11596569063?mod=rss_Technology'}], 'link': 'https://www.wsj.com/articles/microsoft-ceo-nadella-wades-into-u-s-china-tensions-in-tiktok-pursuit-11596569063?mod=rss_Technology', 'summary': 'Merger deals are rarely simple. But Satya Nadella now is attempting to ink a takeover agreement that satisfies not only both the companies and their shareholders, but two governments in bitter competition for technological clout.', 'summary_detail': {'type': 'text/html', 'language': None, 'base': 'https://feeds.a.dj.com/rss/RSSWSJD.xml', 'value': 'Merger deals are rarely simple. But Satya Nadella now is attempting to ink a takeover agreement that satisfies not only both the companies and their shareholders, but two governments in bitter competition for technological clout.'}, 'content': [{'type': 'text/html', 'language': None, 'base': 'https://feeds.a.dj.com/rss/RSSWSJD.xml', 'value': ''}], 'published': 'Tue, 04 Aug 2020 15:24:00 -0400', 'published_parsed': time.struct_time(tm_year=2020, tm_mon=8, tm_mday=4, tm_hour=19, tm_min=24, tm_sec=0, tm_wday=1, tm_yday=217, tm_isdst=0), 'id': 'SB12344200674247334710904586549041514884206', 'guidislink': False, 'tags': [{'term': 'PAID', 'scheme': 'AccessClassName', 'label': None}], 'wsj_articletype': 'Technology'}\n",
      "{'title': 'SEC Probing Kodak Loan Disclosure, Stock Surge', 'title_detail': {'type': 'text/plain', 'language': None, 'base': 'https://feeds.a.dj.com/rss/RSSWSJD.xml', 'value': 'SEC Probing Kodak Loan Disclosure, Stock Surge'}, 'links': [{'rel': 'alternate', 'type': 'text/html', 'href': 'https://www.wsj.com/articles/kodak-loan-disclosure-and-stock-surge-under-sec-investigation-11596559126?mod=rss_Technology'}], 'link': 'https://www.wsj.com/articles/kodak-loan-disclosure-and-stock-surge-under-sec-investigation-11596559126?mod=rss_Technology', 'summary': 'The Securities and Exchange Commission is investigating the circumstances around Eastman Kodak’s announcement of a $765 million government loan to make drugs at its U.S. factories, according to people familiar with the matter.', 'summary_detail': {'type': 'text/html', 'language': None, 'base': 'https://feeds.a.dj.com/rss/RSSWSJD.xml', 'value': 'The Securities and Exchange Commission is investigating the circumstances around Eastman Kodak’s announcement of a $765 million government loan to make drugs at its U.S. factories, according to people familiar with the matter.'}, 'content': [{'type': 'text/html', 'language': None, 'base': 'https://feeds.a.dj.com/rss/RSSWSJD.xml', 'value': ''}], 'published': 'Tue, 04 Aug 2020 19:00:00 -0400', 'published_parsed': time.struct_time(tm_year=2020, tm_mon=8, tm_mday=4, tm_hour=23, tm_min=0, tm_sec=0, tm_wday=1, tm_yday=217, tm_isdst=0), 'id': 'SB12242392922961683540304586548773210385978', 'guidislink': False, 'tags': [{'term': 'PAID', 'scheme': 'AccessClassName', 'label': None}], 'wsj_articletype': 'Business'}\n"
     ]
    },
    {
     "ename": "KeyboardInterrupt",
     "evalue": "",
     "output_type": "error",
     "traceback": [
      "\u001b[1;31m---------------------------------------------------------------------------\u001b[0m",
      "\u001b[1;31mKeyboardInterrupt\u001b[0m                         Traceback (most recent call last)",
      "\u001b[1;32m<ipython-input-11-bb100ee9bc3e>\u001b[0m in \u001b[0;36m<module>\u001b[1;34m\u001b[0m\n\u001b[0;32m      8\u001b[0m         \u001b[0mtopstories\u001b[0m\u001b[1;33m(\u001b[0m\u001b[1;33m)\u001b[0m\u001b[1;33m\u001b[0m\u001b[1;33m\u001b[0m\u001b[0m\n\u001b[0;32m      9\u001b[0m     \u001b[1;32melif\u001b[0m\u001b[1;33m(\u001b[0m\u001b[0mi\u001b[0m \u001b[1;33m==\u001b[0m \u001b[1;34m'2'\u001b[0m\u001b[1;33m)\u001b[0m\u001b[1;33m:\u001b[0m\u001b[1;33m\u001b[0m\u001b[1;33m\u001b[0m\u001b[0m\n\u001b[1;32m---> 10\u001b[1;33m         \u001b[0mtechnews\u001b[0m\u001b[1;33m(\u001b[0m\u001b[1;33m)\u001b[0m\u001b[1;33m\u001b[0m\u001b[1;33m\u001b[0m\u001b[0m\n\u001b[0m\u001b[0;32m     11\u001b[0m     \u001b[1;32melif\u001b[0m\u001b[1;33m(\u001b[0m\u001b[0mi\u001b[0m \u001b[1;33m==\u001b[0m \u001b[1;34m'3'\u001b[0m\u001b[1;33m)\u001b[0m\u001b[1;33m:\u001b[0m\u001b[1;33m\u001b[0m\u001b[1;33m\u001b[0m\u001b[0m\n\u001b[0;32m     12\u001b[0m         \u001b[0msciencenews\u001b[0m\u001b[1;33m(\u001b[0m\u001b[1;33m)\u001b[0m\u001b[1;33m\u001b[0m\u001b[1;33m\u001b[0m\u001b[0m\n",
      "\u001b[1;32m<ipython-input-6-510d55835f5d>\u001b[0m in \u001b[0;36mtechnews\u001b[1;34m()\u001b[0m\n\u001b[0;32m     10\u001b[0m         \u001b[0mprint\u001b[0m\u001b[1;33m(\u001b[0m\u001b[0mnewsitem\u001b[0m\u001b[1;33m)\u001b[0m\u001b[1;33m\u001b[0m\u001b[1;33m\u001b[0m\u001b[0m\n\u001b[0;32m     11\u001b[0m         \u001b[0mn\u001b[0m \u001b[1;33m=\u001b[0m \u001b[0mToastNotifier\u001b[0m\u001b[1;33m(\u001b[0m\u001b[1;33m)\u001b[0m\u001b[1;33m\u001b[0m\u001b[1;33m\u001b[0m\u001b[0m\n\u001b[1;32m---> 12\u001b[1;33m         \u001b[0mn\u001b[0m\u001b[1;33m.\u001b[0m\u001b[0mshow_toast\u001b[0m\u001b[1;33m(\u001b[0m\u001b[0mtitle\u001b[0m \u001b[1;33m=\u001b[0m \u001b[0mnewsitem\u001b[0m\u001b[1;33m[\u001b[0m\u001b[1;34m'title'\u001b[0m\u001b[1;33m]\u001b[0m\u001b[1;33m,\u001b[0m \u001b[0mmsg\u001b[0m \u001b[1;33m=\u001b[0m \u001b[0mnewsitem\u001b[0m\u001b[1;33m[\u001b[0m\u001b[1;34m'summary'\u001b[0m\u001b[1;33m]\u001b[0m\u001b[1;33m,\u001b[0m \u001b[0mduration\u001b[0m \u001b[1;33m=\u001b[0m \u001b[1;36m25\u001b[0m\u001b[1;33m,\u001b[0m \u001b[0micon_path\u001b[0m \u001b[1;33m=\u001b[0m \u001b[0mICON_PATH\u001b[0m\u001b[1;33m)\u001b[0m\u001b[1;33m\u001b[0m\u001b[1;33m\u001b[0m\u001b[0m\n\u001b[0m\u001b[0;32m     13\u001b[0m         \u001b[1;31m#time.sleep(100)\u001b[0m\u001b[1;33m\u001b[0m\u001b[1;33m\u001b[0m\u001b[1;33m\u001b[0m\u001b[0m\n",
      "\u001b[1;32m~\\Anaconda3\\lib\\site-packages\\win10toast\\__init__.py\u001b[0m in \u001b[0;36mshow_toast\u001b[1;34m(self, title, msg, icon_path, duration, threaded)\u001b[0m\n\u001b[0;32m    125\u001b[0m         \"\"\"\n\u001b[0;32m    126\u001b[0m         \u001b[1;32mif\u001b[0m \u001b[1;32mnot\u001b[0m \u001b[0mthreaded\u001b[0m\u001b[1;33m:\u001b[0m\u001b[1;33m\u001b[0m\u001b[1;33m\u001b[0m\u001b[0m\n\u001b[1;32m--> 127\u001b[1;33m             \u001b[0mself\u001b[0m\u001b[1;33m.\u001b[0m\u001b[0m_show_toast\u001b[0m\u001b[1;33m(\u001b[0m\u001b[0mtitle\u001b[0m\u001b[1;33m,\u001b[0m \u001b[0mmsg\u001b[0m\u001b[1;33m,\u001b[0m \u001b[0micon_path\u001b[0m\u001b[1;33m,\u001b[0m \u001b[0mduration\u001b[0m\u001b[1;33m)\u001b[0m\u001b[1;33m\u001b[0m\u001b[1;33m\u001b[0m\u001b[0m\n\u001b[0m\u001b[0;32m    128\u001b[0m         \u001b[1;32melse\u001b[0m\u001b[1;33m:\u001b[0m\u001b[1;33m\u001b[0m\u001b[1;33m\u001b[0m\u001b[0m\n\u001b[0;32m    129\u001b[0m             \u001b[1;32mif\u001b[0m \u001b[0mself\u001b[0m\u001b[1;33m.\u001b[0m\u001b[0mnotification_active\u001b[0m\u001b[1;33m(\u001b[0m\u001b[1;33m)\u001b[0m\u001b[1;33m:\u001b[0m\u001b[1;33m\u001b[0m\u001b[1;33m\u001b[0m\u001b[0m\n",
      "\u001b[1;32m~\\Anaconda3\\lib\\site-packages\\win10toast\\__init__.py\u001b[0m in \u001b[0;36m_show_toast\u001b[1;34m(self, title, msg, icon_path, duration)\u001b[0m\n\u001b[0;32m    110\u001b[0m                                       title))\n\u001b[0;32m    111\u001b[0m         \u001b[1;31m# take a rest then destroy\u001b[0m\u001b[1;33m\u001b[0m\u001b[1;33m\u001b[0m\u001b[1;33m\u001b[0m\u001b[0m\n\u001b[1;32m--> 112\u001b[1;33m         \u001b[0msleep\u001b[0m\u001b[1;33m(\u001b[0m\u001b[0mduration\u001b[0m\u001b[1;33m)\u001b[0m\u001b[1;33m\u001b[0m\u001b[1;33m\u001b[0m\u001b[0m\n\u001b[0m\u001b[0;32m    113\u001b[0m         \u001b[0mDestroyWindow\u001b[0m\u001b[1;33m(\u001b[0m\u001b[0mself\u001b[0m\u001b[1;33m.\u001b[0m\u001b[0mhwnd\u001b[0m\u001b[1;33m)\u001b[0m\u001b[1;33m\u001b[0m\u001b[1;33m\u001b[0m\u001b[0m\n\u001b[0;32m    114\u001b[0m         \u001b[0mUnregisterClass\u001b[0m\u001b[1;33m(\u001b[0m\u001b[0mself\u001b[0m\u001b[1;33m.\u001b[0m\u001b[0mwc\u001b[0m\u001b[1;33m.\u001b[0m\u001b[0mlpszClassName\u001b[0m\u001b[1;33m,\u001b[0m \u001b[1;32mNone\u001b[0m\u001b[1;33m)\u001b[0m\u001b[1;33m\u001b[0m\u001b[1;33m\u001b[0m\u001b[0m\n",
      "\u001b[1;31mKeyboardInterrupt\u001b[0m: "
     ]
    }
   ],
   "source": [
    "if __name__ == '__main__':\n",
    "    print('List of feeds: ')\n",
    "    print('1. TOP STORIES')\n",
    "    print('2. TECH NEWS')\n",
    "    print('3. SCIENCE NEWS')\n",
    "    i = input('Enter your choice: ')\n",
    "    if(i == '1'):\n",
    "        topstories()\n",
    "    elif(i == '2'):\n",
    "        technews()\n",
    "    elif(i == '3'):\n",
    "        sciencenews()"
   ]
  },
  {
   "cell_type": "code",
   "execution_count": null,
   "metadata": {},
   "outputs": [],
   "source": []
  }
 ],
 "metadata": {
  "kernelspec": {
   "display_name": "Python 3",
   "language": "python",
   "name": "python3"
  },
  "language_info": {
   "codemirror_mode": {
    "name": "ipython",
    "version": 3
   },
   "file_extension": ".py",
   "mimetype": "text/x-python",
   "name": "python",
   "nbconvert_exporter": "python",
   "pygments_lexer": "ipython3",
   "version": "3.7.3"
  }
 },
 "nbformat": 4,
 "nbformat_minor": 2
}
